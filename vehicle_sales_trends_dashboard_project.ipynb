{
 "cells": [
  {
   "cell_type": "markdown",
   "metadata": {},
   "source": [
    "# Carga de Datos en Power BI\n",
    "\n",
    "Cargamos el dataset de ventas de vehículos en **Power BI Desktop**. \n",
    "El archivo `car_prices.csv` contiene información sobre las ventas de vehículos como el año, la marca, el kilometraje, el precio de venta, y más.\n",
    "\n",
    "![Carga de Datos en Power BI](img/1.png)"
   ]
  },
  {
   "cell_type": "markdown",
   "metadata": {},
   "source": [
    "# Limpieza de la Columna `saledate` y Extracción del Año\n",
    "\n",
    "Debido a que la columna `saledate` contenía información de la zona horaria que impedía que Power BI la reconociera como fecha, se creó una columna personalizada para eliminar la zona horaria:\n",
    "\n",
    "\n",
    "![Carga de Datos en Power BI](img/2.png)\n",
    "![Carga de Datos en Power BI](img/3.png)\n",
    "![Carga de Datos en Power BI](img/4.png)"
   ]
  },
  {
   "cell_type": "markdown",
   "metadata": {},
   "source": [
    "### 1. **Análisis de Tendencias de Ventas**\n",
    "\n",
    "Ahora que hemos limpiado los datos, nos enfocaremos en el análisis de las **tendencias de ventas** de los vehículos a lo largo del tiempo, lo cual incluye visualizaciones de las ventas totales por año, por estado, y otras variables de interés.\n",
    "\n",
    "#### 1.1 **Gráfico de Columnas - Ventas Totales por Año**\n",
    "#### Descripción:\n",
    "Este gráfico muestra el número total de vehículos vendidos en cada trimestre de los dos años.\n",
    "\n",
    "#### Pasos:\n",
    "1. Selecciona **Gráfico de Columnas** en el panel de **Visualizaciones**.\n",
    "2. Arrastra la columna **Trimestre de Venta** al eje **X**.\n",
    "3. En **Valores**, selecciona cualquier columna que represente una fila por cada venta (por ejemplo, `VIN`), y usa **Contar** como la métrica para sumar la cantidad de ventas.\n"
   ]
  },
  {
   "cell_type": "code",
   "execution_count": null,
   "metadata": {
    "vscode": {
     "languageId": "plaintext"
    }
   },
   "outputs": [],
   "source": []
  },
  {
   "cell_type": "code",
   "execution_count": null,
   "metadata": {
    "vscode": {
     "languageId": "plaintext"
    }
   },
   "outputs": [],
   "source": []
  }
 ],
 "metadata": {
  "language_info": {
   "name": "python"
  }
 },
 "nbformat": 4,
 "nbformat_minor": 2
}
